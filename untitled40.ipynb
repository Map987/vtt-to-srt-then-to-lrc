{
  "nbformat": 4,
  "nbformat_minor": 0,
  "metadata": {
    "colab": {
      "provenance": [],
      "authorship_tag": "ABX9TyPCA0ud2GZG2c4grAME5EDS",
      "include_colab_link": true
    },
    "kernelspec": {
      "name": "python3",
      "display_name": "Python 3"
    },
    "language_info": {
      "name": "python"
    }
  },
  "cells": [
    {
      "cell_type": "markdown",
      "metadata": {
        "id": "view-in-github",
        "colab_type": "text"
      },
      "source": [
        "<a href=\"https://colab.research.google.com/github/Map987/vtt-to-srt-then-to-lrc/blob/main/untitled40.ipynb\" target=\"_parent\"><img src=\"https://colab.research.google.com/assets/colab-badge.svg\" alt=\"Open In Colab\"/></a>"
      ]
    },
    {
      "cell_type": "code",
      "execution_count": null,
      "metadata": {
        "colab": {
          "base_uri": "https://localhost:8080/"
        },
        "id": "rhEwdiQm90wz",
        "outputId": "0f9d3f07-ca90-499f-e716-064e34c8b42b"
      },
      "outputs": [
        {
          "output_type": "stream",
          "name": "stdout",
          "text": [
            "转换完成,输出文件为:/content/output.srt\n"
          ]
        }
      ],
      "source": [
        "\n",
        " # -*- coding: utf-8 -*-\n",
        "\n",
        " import sys\n",
        " import re\n",
        "\n",
        " def vtt2srt(fn_in, fn_out):\n",
        "   with open(fn_in,'r') as fin, open(fn_out,'w') as fout:\n",
        "     line_number = 0\n",
        "     for line in fin:\n",
        "       #print '>',line\n",
        "       r = re.findall(r'(\\d{2}:\\d{2}:\\d{2}\\.\\d{3}) --> (\\d{2}:\\d{2}:\\d{2}\\.\\d{3})', line)\n",
        "       if r:\n",
        "         line_number += 1\n",
        "         fout.write('%d\\n' % line_number)\n",
        "         fout.write('%s --> %s\\n' % (r[0][0].replace('.',','), r[0][1].replace('.',',')))\n",
        "       else:\n",
        "         # Content\n",
        "         line = re.sub(r'<.+?>', '', line)\n",
        "         if line_number:\n",
        "           fout.write(line)\n",
        "\n",
        " # 在 Colab 中指定输入和输出文件的路径\n",
        " fn_in = '/content/audio/20230506_Yuutousei_JK_V1_Track1.mp3.vtt'\n",
        " fn_out = '/content/output.srt'\n",
        "\n",
        " vtt2srt(fn_in, fn_out)\n",
        "\n",
        " print('转换完成,输出文件为:'+fn_out)"
      ]
    },
    {
      "cell_type": "code",
      "source": [
        "\n",
        " import os\n",
        " import re\n",
        "\n",
        " def vtt_to_srt(fn_in, fn_out):\n",
        "   with open(fn_in,'r') as fin, open(fn_out,'w') as fout:\n",
        "     line_number = 0\n",
        "     for line in fin:\n",
        "       r = re.findall(r'(\\d{2}:\\d{2}:\\d{2}\\.\\d{3}) --> (\\d{2}:\\d{2}:\\d{2}\\.\\d{3})', line)\n",
        "       if r:\n",
        "         line_number += 1\n",
        "         fout.write('%d\\n' % line_number)\n",
        "         fout.write('%s --> %s\\n' % (r[0][0].replace('.',','), r[0][1].replace('.',',')))\n",
        "       else:\n",
        "         line = re.sub(r'<.+?>', '', line)\n",
        "         if line_number:\n",
        "           fout.write(line)\n",
        "\n",
        " # Colab 的工作目录\n",
        " path = '/content/audio/'\n",
        "\n",
        " for fn_in in os.listdir(path):\n",
        "   # 只转换 vtt 文件\n",
        "   if fn_in.endswith('.vtt'):\n",
        "     fn_out = fn_in.replace('.vtt', '.srt')\n",
        "     print(f'转换 {fn_in} 到 {fn_out}')\n",
        "     vtt_to_srt(os.path.join(path, fn_in), os.path.join(path, fn_out))\n",
        "\n",
        " print('所有转换完成!')"
      ],
      "metadata": {
        "colab": {
          "base_uri": "https://localhost:8080/"
        },
        "id": "TF6sj_tA_sN3",
        "outputId": "ca1eff2e-239b-408d-acc8-468cd9796bff"
      },
      "execution_count": null,
      "outputs": [
        {
          "output_type": "stream",
          "name": "stdout",
          "text": [
            "转换 tr05_甜蜜的发情造人性爱.wav.vtt 到 tr05_甜蜜的发情造人性爱.wav.srt\n",
            "转换 tr00_标题朗读.wav.vtt 到 tr00_标题朗读.wav.srt\n",
            "转换 tr04_与公主的初夜・舔舐全身与哦吼声趴下后入.wav.vtt 到 tr04_与公主的初夜・舔舐全身与哦吼声趴下后入.wav.srt\n",
            "转换 tr01_与公主的相遇・肌肤相亲陪睡与舔耳.wav.vtt 到 tr01_与公主的相遇・肌肤相亲陪睡与舔耳.wav.srt\n",
            "转换 free talk.wav.vtt 到 free talk.wav.srt\n",
            "转换 tr03_与公主同床共枕.wav.vtt 到 tr03_与公主同床共枕.wav.srt\n",
            "转换 tr02_与公主的接吻・初次的亲密性爱.mp3.vtt 到 tr02_与公主的接吻・初次的亲密性爱.mp3.srt\n",
            "转换 tr01_与公主的相遇・肌肤相亲陪睡与舔耳.mp3.vtt 到 tr01_与公主的相遇・肌肤相亲陪睡与舔耳.mp3.srt\n",
            "转换 tr00_标题朗读.mp3.vtt 到 tr00_标题朗读.mp3.srt\n",
            "转换 tr03_与公主同床共枕.mp3.vtt 到 tr03_与公主同床共枕.mp3.srt\n",
            "转换 free talk.mp3.vtt 到 free talk.mp3.srt\n",
            "转换 tr05_甜蜜的发情造人性爱.mp3.vtt 到 tr05_甜蜜的发情造人性爱.mp3.srt\n",
            "转换 tr02_与公主的接吻・初次的亲密性爱.wav.vtt 到 tr02_与公主的接吻・初次的亲密性爱.wav.srt\n",
            "转换 tr04_与公主的初夜・舔舐全身与哦吼声趴下后入.mp3.vtt 到 tr04_与公主的初夜・舔舐全身与哦吼声趴下后入.mp3.srt\n",
            "所有转换完成!\n"
          ]
        }
      ]
    },
    {
      "cell_type": "code",
      "source": [],
      "metadata": {
        "id": "FItwaq_N_NSF"
      },
      "execution_count": null,
      "outputs": []
    },
    {
      "cell_type": "code",
      "source": [
        "import json\n",
        "from pathlib import Path\n",
        "import subprocess\n",
        "\n",
        "url_set = set()\n",
        "audio_dir = Path('/content/audio')\n",
        "\n",
        "with open(Path('/content/track.json')) as f:\n",
        "     data = json.load(f)\n",
        "\n",
        "def find_urls(obj):\n",
        "     if isinstance(obj, dict):\n",
        "         if 'mediaDownloadUrl' in obj:\n",
        "             url = obj['mediaDownloadUrl']\n",
        "             if url and url.endswith('.vtt'):\n",
        "                 url_set.add(url)\n",
        "         for value in obj.values():\n",
        "             find_urls(value)\n",
        "     elif isinstance(obj, list):\n",
        "         for value in obj:\n",
        "             find_urls(value)\n",
        "\n",
        "find_urls(data)\n",
        "\n",
        "for url in url_set:\n",
        "     print(url)\n",
        "     filename = url.split('/')[-1]\n",
        "     filepath = audio_dir / filename\n",
        "\n",
        "     subprocess.call(['wget', '-P', str(audio_dir), url])"
      ],
      "metadata": {
        "colab": {
          "base_uri": "https://localhost:8080/"
        },
        "id": "buy90LZG-CEw",
        "outputId": "f2298a4c-8cf4-4e31-9979-79fe87828a5f"
      },
      "execution_count": null,
      "outputs": [
        {
          "output_type": "stream",
          "name": "stdout",
          "text": [
            "https://raw.kiko-play-niptan.one/media/download/daily/2023-09-17/RJ01063662/wav/tr01_%E4%B8%8E%E5%85%AC%E4%B8%BB%E7%9A%84%E7%9B%B8%E9%81%87%E3%83%BB%E8%82%8C%E8%82%A4%E7%9B%B8%E4%BA%B2%E9%99%AA%E7%9D%A1%E4%B8%8E%E8%88%94%E8%80%B3.wav.vtt\n",
            "https://raw.kiko-play-niptan.one/media/download/daily/2023-09-17/RJ01063662/wav-%E6%97%A0SE/tr00_%E6%A0%87%E9%A2%98%E6%9C%97%E8%AF%BB.wav.vtt\n",
            "https://raw.kiko-play-niptan.one/media/download/daily/2023-09-17/RJ01063662/wav-%E6%97%A0SE/tr04_%E4%B8%8E%E5%85%AC%E4%B8%BB%E7%9A%84%E5%88%9D%E5%A4%9C%E3%83%BB%E8%88%94%E8%88%90%E5%85%A8%E8%BA%AB%E4%B8%8E%E5%93%A6%E5%90%BC%E5%A3%B0%E8%B6%B4%E4%B8%8B%E5%90%8E%E5%85%A5.wav.vtt\n",
            "https://raw.kiko-play-niptan.one/media/download/daily/2023-09-17/RJ01063662/mp3/tr02_%E4%B8%8E%E5%85%AC%E4%B8%BB%E7%9A%84%E6%8E%A5%E5%90%BB%E3%83%BB%E5%88%9D%E6%AC%A1%E7%9A%84%E4%BA%B2%E5%AF%86%E6%80%A7%E7%88%B1.mp3.vtt\n",
            "https://raw.kiko-play-niptan.one/media/download/daily/2023-09-17/RJ01063662/wav-%E6%97%A0SE/tr03_%E4%B8%8E%E5%85%AC%E4%B8%BB%E5%90%8C%E5%BA%8A%E5%85%B1%E6%9E%95.wav.vtt\n",
            "https://raw.kiko-play-niptan.one/media/download/daily/2023-09-17/RJ01063662/mp3/tr01_%E4%B8%8E%E5%85%AC%E4%B8%BB%E7%9A%84%E7%9B%B8%E9%81%87%E3%83%BB%E8%82%8C%E8%82%A4%E7%9B%B8%E4%BA%B2%E9%99%AA%E7%9D%A1%E4%B8%8E%E8%88%94%E8%80%B3.mp3.vtt\n",
            "https://raw.kiko-play-niptan.one/media/download/daily/2023-09-17/RJ01063662/%E9%99%84%E8%B5%A0%EF%BC%9A%E4%BF%83%E9%94%80%E7%94%A8free%20talk/free%20talk.wav.vtt\n",
            "https://raw.kiko-play-niptan.one/media/download/daily/2023-09-17/RJ01063662/wav/tr02_%E4%B8%8E%E5%85%AC%E4%B8%BB%E7%9A%84%E6%8E%A5%E5%90%BB%E3%83%BB%E5%88%9D%E6%AC%A1%E7%9A%84%E4%BA%B2%E5%AF%86%E6%80%A7%E7%88%B1.wav.vtt\n",
            "https://raw.kiko-play-niptan.one/media/download/daily/2023-09-17/RJ01063662/mp3/tr00_%E6%A0%87%E9%A2%98%E6%9C%97%E8%AF%BB.mp3.vtt\n",
            "https://raw.kiko-play-niptan.one/media/download/daily/2023-09-17/RJ01063662/mp3/tr03_%E4%B8%8E%E5%85%AC%E4%B8%BB%E5%90%8C%E5%BA%8A%E5%85%B1%E6%9E%95.mp3.vtt\n",
            "https://raw.kiko-play-niptan.one/media/download/daily/2023-09-17/RJ01063662/mp3-%E6%97%A0SE/tr02_%E4%B8%8E%E5%85%AC%E4%B8%BB%E7%9A%84%E6%8E%A5%E5%90%BB%E3%83%BB%E5%88%9D%E6%AC%A1%E7%9A%84%E4%BA%B2%E5%AF%86%E6%80%A7%E7%88%B1.mp3.vtt\n",
            "https://raw.kiko-play-niptan.one/media/download/daily/2023-09-17/RJ01063662/mp3-%E6%97%A0SE/tr03_%E4%B8%8E%E5%85%AC%E4%B8%BB%E5%90%8C%E5%BA%8A%E5%85%B1%E6%9E%95.mp3.vtt\n",
            "https://raw.kiko-play-niptan.one/media/download/daily/2023-09-17/RJ01063662/wav-%E6%97%A0SE/tr01_%E4%B8%8E%E5%85%AC%E4%B8%BB%E7%9A%84%E7%9B%B8%E9%81%87%E3%83%BB%E8%82%8C%E8%82%A4%E7%9B%B8%E4%BA%B2%E9%99%AA%E7%9D%A1%E4%B8%8E%E8%88%94%E8%80%B3.wav.vtt\n",
            "https://raw.kiko-play-niptan.one/media/download/daily/2023-09-17/RJ01063662/%E9%99%84%E8%B5%A0%EF%BC%9A%E4%BF%83%E9%94%80%E7%94%A8free%20talk/free%20talk.mp3.vtt\n",
            "https://raw.kiko-play-niptan.one/media/download/daily/2023-09-17/RJ01063662/mp3-%E6%97%A0SE/tr01_%E4%B8%8E%E5%85%AC%E4%B8%BB%E7%9A%84%E7%9B%B8%E9%81%87%E3%83%BB%E8%82%8C%E8%82%A4%E7%9B%B8%E4%BA%B2%E9%99%AA%E7%9D%A1%E4%B8%8E%E8%88%94%E8%80%B3.mp3.vtt\n",
            "https://raw.kiko-play-niptan.one/media/download/daily/2023-09-17/RJ01063662/mp3-%E6%97%A0SE/tr05_%E7%94%9C%E8%9C%9C%E7%9A%84%E5%8F%91%E6%83%85%E9%80%A0%E4%BA%BA%E6%80%A7%E7%88%B1.mp3.vtt\n",
            "https://raw.kiko-play-niptan.one/media/download/daily/2023-09-17/RJ01063662/wav/tr03_%E4%B8%8E%E5%85%AC%E4%B8%BB%E5%90%8C%E5%BA%8A%E5%85%B1%E6%9E%95.wav.vtt\n",
            "https://raw.kiko-play-niptan.one/media/download/daily/2023-09-17/RJ01063662/wav-%E6%97%A0SE/tr02_%E4%B8%8E%E5%85%AC%E4%B8%BB%E7%9A%84%E6%8E%A5%E5%90%BB%E3%83%BB%E5%88%9D%E6%AC%A1%E7%9A%84%E4%BA%B2%E5%AF%86%E6%80%A7%E7%88%B1.wav.vtt\n",
            "https://raw.kiko-play-niptan.one/media/download/daily/2023-09-17/RJ01063662/wav-%E6%97%A0SE/tr05_%E7%94%9C%E8%9C%9C%E7%9A%84%E5%8F%91%E6%83%85%E9%80%A0%E4%BA%BA%E6%80%A7%E7%88%B1.wav.vtt\n",
            "https://raw.kiko-play-niptan.one/media/download/daily/2023-09-17/RJ01063662/mp3/tr05_%E7%94%9C%E8%9C%9C%E7%9A%84%E5%8F%91%E6%83%85%E9%80%A0%E4%BA%BA%E6%80%A7%E7%88%B1.mp3.vtt\n",
            "https://raw.kiko-play-niptan.one/media/download/daily/2023-09-17/RJ01063662/wav/tr00_%E6%A0%87%E9%A2%98%E6%9C%97%E8%AF%BB.wav.vtt\n",
            "https://raw.kiko-play-niptan.one/media/download/daily/2023-09-17/RJ01063662/wav/tr05_%E7%94%9C%E8%9C%9C%E7%9A%84%E5%8F%91%E6%83%85%E9%80%A0%E4%BA%BA%E6%80%A7%E7%88%B1.wav.vtt\n",
            "https://raw.kiko-play-niptan.one/media/download/daily/2023-09-17/RJ01063662/mp3/tr04_%E4%B8%8E%E5%85%AC%E4%B8%BB%E7%9A%84%E5%88%9D%E5%A4%9C%E3%83%BB%E8%88%94%E8%88%90%E5%85%A8%E8%BA%AB%E4%B8%8E%E5%93%A6%E5%90%BC%E5%A3%B0%E8%B6%B4%E4%B8%8B%E5%90%8E%E5%85%A5.mp3.vtt\n",
            "https://raw.kiko-play-niptan.one/media/download/daily/2023-09-17/RJ01063662/mp3-%E6%97%A0SE/tr00_%E6%A0%87%E9%A2%98%E6%9C%97%E8%AF%BB.mp3.vtt\n",
            "https://raw.kiko-play-niptan.one/media/download/daily/2023-09-17/RJ01063662/mp3-%E6%97%A0SE/tr04_%E4%B8%8E%E5%85%AC%E4%B8%BB%E7%9A%84%E5%88%9D%E5%A4%9C%E3%83%BB%E8%88%94%E8%88%90%E5%85%A8%E8%BA%AB%E4%B8%8E%E5%93%A6%E5%90%BC%E5%A3%B0%E8%B6%B4%E4%B8%8B%E5%90%8E%E5%85%A5.mp3.vtt\n",
            "https://raw.kiko-play-niptan.one/media/download/daily/2023-09-17/RJ01063662/wav/tr04_%E4%B8%8E%E5%85%AC%E4%B8%BB%E7%9A%84%E5%88%9D%E5%A4%9C%E3%83%BB%E8%88%94%E8%88%90%E5%85%A8%E8%BA%AB%E4%B8%8E%E5%93%A6%E5%90%BC%E5%A3%B0%E8%B6%B4%E4%B8%8B%E5%90%8E%E5%85%A5.wav.vtt\n"
          ]
        }
      ]
    },
    {
      "cell_type": "code",
      "source": [
        "RJ = '01063662' #  @param {type:\"string\"}\n",
        "\n",
        "!wget https://api.asmr-300.com/api/tracks/$RJ -O track.json"
      ],
      "metadata": {
        "colab": {
          "base_uri": "https://localhost:8080/"
        },
        "id": "Xsg49blD-Dmj",
        "outputId": "a6d66038-c4a0-4fc9-aacb-9924c6c24dce"
      },
      "execution_count": null,
      "outputs": [
        {
          "output_type": "stream",
          "name": "stdout",
          "text": [
            "--2023-09-18 16:00:14--  https://api.asmr-300.com/api/tracks/01063662\n",
            "Resolving api.asmr-300.com (api.asmr-300.com)... 104.19.19.254\n",
            "Connecting to api.asmr-300.com (api.asmr-300.com)|104.19.19.254|:443... connected.\n",
            "HTTP request sent, awaiting response... 200 OK\n",
            "Length: 39381 (38K) [application/json]\n",
            "Saving to: ‘track.json’\n",
            "\n",
            "track.json          100%[===================>]  38.46K  --.-KB/s    in 0s      \n",
            "\n",
            "2023-09-18 16:00:16 (113 MB/s) - ‘track.json’ saved [39381/39381]\n",
            "\n"
          ]
        }
      ]
    },
    {
      "cell_type": "code",
      "source": [
        "\n",
        " import re\n",
        " import glob\n",
        " import os\n",
        "\n",
        " SRT_BLOCK_REGEX = re.compile(r'()'\n",
        "                              r'(\\d{2}:\\d{2}:\\d{2}[,\\.]\\d{3,4})[^\\S\\r\\n]*-->'\n",
        "                              r'[^\\S\\r\\n]*(\\d{2}:\\d{2}:\\d{2}[,\\.]\\d{3,4})'\n",
        "                              r'[^\\S\\r\\n]*[\\r\\n]+'\n",
        "                              r'([\\s\\S]*)')\n",
        "\n",
        " def srt_block_to_irc(block):\n",
        "   match = SRT_BLOCK_REGEX.search(block)\n",
        "   if not match:\n",
        "     return None\n",
        "   num, ts, te, content = match.groups()\n",
        "   ts = ts[3:-1].replace(',', '.')\n",
        "   te = te[3:-1].replace(',', '.')\n",
        "   co = content.replace('\\n', ' ')\n",
        "   return '[%s]%s\\n[%s]\\n' % (ts, co, te)\n",
        "\n",
        " def srt_to_lrc(fname):\n",
        "   with open(fname, encoding='utf8') as file_in:\n",
        "     str_in = file_in.read()\n",
        "     blocks_in = str_in.replace('\\r\\n', '\\n').split('\\n\\n')\n",
        "     blocks_out = [srt_block_to_irc(block) for block in blocks_in]\n",
        "     blocks_out = filter(None, blocks_out)\n",
        "     str_out = ''.join(blocks_out)\n",
        "     fn_out = fname.replace('srt', 'lrc')\n",
        "     with open(fn_out, 'w', encoding='utf8') as file_out:\n",
        "       file_out.write(str_out)\n",
        "     print(f'{fname}转换完成,输出文件为{fn_out}')\n",
        "\n",
        " # Colab的工作目录\n",
        " path = '/content/audio'\n",
        "\n",
        " for fname in os.listdir(path):\n",
        "   if fname.endswith('.srt'):\n",
        "     srt_to_lrc(os.path.join(path, fname))"
      ],
      "metadata": {
        "colab": {
          "base_uri": "https://localhost:8080/"
        },
        "id": "tziRvXST_Os8",
        "outputId": "32b464f8-08fe-49cf-c4f5-8b658d951bee"
      },
      "execution_count": null,
      "outputs": [
        {
          "output_type": "stream",
          "name": "stdout",
          "text": [
            "/content/audio/tr04_与公主的初夜・舔舐全身与哦吼声趴下后入.mp3.srt转换完成,输出文件为/content/audio/tr04_与公主的初夜・舔舐全身与哦吼声趴下后入.mp3.lrc\n",
            "/content/audio/free talk.wav.srt转换完成,输出文件为/content/audio/free talk.wav.lrc\n",
            "/content/audio/tr01_与公主的相遇・肌肤相亲陪睡与舔耳.wav.srt转换完成,输出文件为/content/audio/tr01_与公主的相遇・肌肤相亲陪睡与舔耳.wav.lrc\n",
            "/content/audio/tr00_标题朗读.wav.srt转换完成,输出文件为/content/audio/tr00_标题朗读.wav.lrc\n",
            "/content/audio/tr00_标题朗读.mp3.srt转换完成,输出文件为/content/audio/tr00_标题朗读.mp3.lrc\n",
            "/content/audio/tr03_与公主同床共枕.wav.srt转换完成,输出文件为/content/audio/tr03_与公主同床共枕.wav.lrc\n",
            "/content/audio/tr04_与公主的初夜・舔舐全身与哦吼声趴下后入.wav.srt转换完成,输出文件为/content/audio/tr04_与公主的初夜・舔舐全身与哦吼声趴下后入.wav.lrc\n",
            "/content/audio/tr01_与公主的相遇・肌肤相亲陪睡与舔耳.mp3.srt转换完成,输出文件为/content/audio/tr01_与公主的相遇・肌肤相亲陪睡与舔耳.mp3.lrc\n",
            "/content/audio/tr05_甜蜜的发情造人性爱.mp3.srt转换完成,输出文件为/content/audio/tr05_甜蜜的发情造人性爱.mp3.lrc\n",
            "/content/audio/tr03_与公主同床共枕.mp3.srt转换完成,输出文件为/content/audio/tr03_与公主同床共枕.mp3.lrc\n",
            "/content/audio/tr02_与公主的接吻・初次的亲密性爱.mp3.srt转换完成,输出文件为/content/audio/tr02_与公主的接吻・初次的亲密性爱.mp3.lrc\n",
            "/content/audio/free talk.mp3.srt转换完成,输出文件为/content/audio/free talk.mp3.lrc\n",
            "/content/audio/tr02_与公主的接吻・初次的亲密性爱.wav.srt转换完成,输出文件为/content/audio/tr02_与公主的接吻・初次的亲密性爱.wav.lrc\n",
            "/content/audio/tr05_甜蜜的发情造人性爱.wav.srt转换完成,输出文件为/content/audio/tr05_甜蜜的发情造人性爱.wav.lrc\n"
          ]
        }
      ]
    },
    {
      "cell_type": "code",
      "source": [
        "\n",
        " import os\n",
        " import re\n",
        " import zipfile\n",
        "\n",
        " audio_dir = '/content/audio'\n",
        " output_dir = '/content'\n",
        "\n",
        " # 获取audio目录下所有lrc文件\n",
        " lrc_files = [f for f in os.listdir(audio_dir) if f.endswith('.lrc')]\n",
        "\n",
        " # 删除含有\".wav\"或\".mp3\"的lrc文件名\n",
        " for f in lrc_files:\n",
        "   new_name = re.sub(r'\\.wav|\\.mp3', '', f)\n",
        "   os.rename(os.path.join(audio_dir, f), os.path.join(audio_dir, new_name))\n",
        "\n",
        " # 将修改后的lrc文件打包成zip文件\n",
        " with zipfile.ZipFile(os.path.join(output_dir, 'lrc.zip'), 'w') as z:\n",
        "   for f in lrc_files:\n",
        "    z.write(os.path.join(audio_dir, f), f)\n",
        "\n",
        " print('lrc文件打包完成,生成lrc.zip文件在:'+output_dir)"
      ],
      "metadata": {
        "colab": {
          "base_uri": "https://localhost:8080/",
          "height": 897
        },
        "id": "mLIPGtWJAop5",
        "outputId": "d25f9552-1136-449b-93fc-346b43a4e6d5"
      },
      "execution_count": null,
      "outputs": [
        {
          "output_type": "error",
          "ename": "FileNotFoundError",
          "evalue": "ignored",
          "traceback": [
            "\u001b[0;31m---------------------------------------------------------------------------\u001b[0m",
            "\u001b[0;31mFileNotFoundError\u001b[0m                         Traceback (most recent call last)",
            "\u001b[0;32m<ipython-input-5-c3aeae54104b>\u001b[0m in \u001b[0;36m<cell line: 17>\u001b[0;34m()\u001b[0m\n\u001b[1;32m     17\u001b[0m \u001b[0;32mwith\u001b[0m \u001b[0mzipfile\u001b[0m\u001b[0;34m.\u001b[0m\u001b[0mZipFile\u001b[0m\u001b[0;34m(\u001b[0m\u001b[0mos\u001b[0m\u001b[0;34m.\u001b[0m\u001b[0mpath\u001b[0m\u001b[0;34m.\u001b[0m\u001b[0mjoin\u001b[0m\u001b[0;34m(\u001b[0m\u001b[0moutput_dir\u001b[0m\u001b[0;34m,\u001b[0m \u001b[0;34m'lrc.zip'\u001b[0m\u001b[0;34m)\u001b[0m\u001b[0;34m,\u001b[0m \u001b[0;34m'w'\u001b[0m\u001b[0;34m)\u001b[0m \u001b[0;32mas\u001b[0m \u001b[0mz\u001b[0m\u001b[0;34m:\u001b[0m\u001b[0;34m\u001b[0m\u001b[0;34m\u001b[0m\u001b[0m\n\u001b[1;32m     18\u001b[0m   \u001b[0;32mfor\u001b[0m \u001b[0mf\u001b[0m \u001b[0;32min\u001b[0m \u001b[0mlrc_files\u001b[0m\u001b[0;34m:\u001b[0m\u001b[0;34m\u001b[0m\u001b[0;34m\u001b[0m\u001b[0m\n\u001b[0;32m---> 19\u001b[0;31m    \u001b[0mz\u001b[0m\u001b[0;34m.\u001b[0m\u001b[0mwrite\u001b[0m\u001b[0;34m(\u001b[0m\u001b[0mos\u001b[0m\u001b[0;34m.\u001b[0m\u001b[0mpath\u001b[0m\u001b[0;34m.\u001b[0m\u001b[0mjoin\u001b[0m\u001b[0;34m(\u001b[0m\u001b[0maudio_dir\u001b[0m\u001b[0;34m,\u001b[0m \u001b[0mf\u001b[0m\u001b[0;34m)\u001b[0m\u001b[0;34m,\u001b[0m \u001b[0mf\u001b[0m\u001b[0;34m)\u001b[0m\u001b[0;34m\u001b[0m\u001b[0;34m\u001b[0m\u001b[0m\n\u001b[0m\u001b[1;32m     20\u001b[0m \u001b[0;34m\u001b[0m\u001b[0m\n\u001b[1;32m     21\u001b[0m \u001b[0mprint\u001b[0m\u001b[0;34m(\u001b[0m\u001b[0;34m'lrc文件打包完成,生成lrc.zip文件在:'\u001b[0m\u001b[0;34m+\u001b[0m\u001b[0moutput_dir\u001b[0m\u001b[0;34m)\u001b[0m\u001b[0;34m\u001b[0m\u001b[0;34m\u001b[0m\u001b[0m\n",
            "\u001b[0;32m/usr/lib/python3.10/zipfile.py\u001b[0m in \u001b[0;36mwrite\u001b[0;34m(self, filename, arcname, compress_type, compresslevel)\u001b[0m\n\u001b[1;32m   1739\u001b[0m             )\n\u001b[1;32m   1740\u001b[0m \u001b[0;34m\u001b[0m\u001b[0m\n\u001b[0;32m-> 1741\u001b[0;31m         zinfo = ZipInfo.from_file(filename, arcname,\n\u001b[0m\u001b[1;32m   1742\u001b[0m                                   strict_timestamps=self._strict_timestamps)\n\u001b[1;32m   1743\u001b[0m \u001b[0;34m\u001b[0m\u001b[0m\n",
            "\u001b[0;32m/usr/lib/python3.10/zipfile.py\u001b[0m in \u001b[0;36mfrom_file\u001b[0;34m(cls, filename, arcname, strict_timestamps)\u001b[0m\n\u001b[1;32m    502\u001b[0m         \u001b[0;32mif\u001b[0m \u001b[0misinstance\u001b[0m\u001b[0;34m(\u001b[0m\u001b[0mfilename\u001b[0m\u001b[0;34m,\u001b[0m \u001b[0mos\u001b[0m\u001b[0;34m.\u001b[0m\u001b[0mPathLike\u001b[0m\u001b[0;34m)\u001b[0m\u001b[0;34m:\u001b[0m\u001b[0;34m\u001b[0m\u001b[0;34m\u001b[0m\u001b[0m\n\u001b[1;32m    503\u001b[0m             \u001b[0mfilename\u001b[0m \u001b[0;34m=\u001b[0m \u001b[0mos\u001b[0m\u001b[0;34m.\u001b[0m\u001b[0mfspath\u001b[0m\u001b[0;34m(\u001b[0m\u001b[0mfilename\u001b[0m\u001b[0;34m)\u001b[0m\u001b[0;34m\u001b[0m\u001b[0;34m\u001b[0m\u001b[0m\n\u001b[0;32m--> 504\u001b[0;31m         \u001b[0mst\u001b[0m \u001b[0;34m=\u001b[0m \u001b[0mos\u001b[0m\u001b[0;34m.\u001b[0m\u001b[0mstat\u001b[0m\u001b[0;34m(\u001b[0m\u001b[0mfilename\u001b[0m\u001b[0;34m)\u001b[0m\u001b[0;34m\u001b[0m\u001b[0;34m\u001b[0m\u001b[0m\n\u001b[0m\u001b[1;32m    505\u001b[0m         \u001b[0misdir\u001b[0m \u001b[0;34m=\u001b[0m \u001b[0mstat\u001b[0m\u001b[0;34m.\u001b[0m\u001b[0mS_ISDIR\u001b[0m\u001b[0;34m(\u001b[0m\u001b[0mst\u001b[0m\u001b[0;34m.\u001b[0m\u001b[0mst_mode\u001b[0m\u001b[0;34m)\u001b[0m\u001b[0;34m\u001b[0m\u001b[0;34m\u001b[0m\u001b[0m\n\u001b[1;32m    506\u001b[0m         \u001b[0mmtime\u001b[0m \u001b[0;34m=\u001b[0m \u001b[0mtime\u001b[0m\u001b[0;34m.\u001b[0m\u001b[0mlocaltime\u001b[0m\u001b[0;34m(\u001b[0m\u001b[0mst\u001b[0m\u001b[0;34m.\u001b[0m\u001b[0mst_mtime\u001b[0m\u001b[0;34m)\u001b[0m\u001b[0;34m\u001b[0m\u001b[0;34m\u001b[0m\u001b[0m\n",
            "\u001b[0;31mFileNotFoundError\u001b[0m: [Errno 2] No such file or directory: '/content/audio/tr05_甜蜜的发情造人性爱.mp3.lrc'"
          ]
        }
      ]
    },
    {
      "cell_type": "code",
      "source": [
        "\n",
        " import os\n",
        " import re\n",
        " import zipfile\n",
        "\n",
        " audio_dir = '/content/audio'\n",
        " output_dir = '/content'\n",
        "\n",
        " # 获取audio目录下所有lrc文件\n",
        " lrc_files = [f for f in os.listdir(audio_dir) if f.endswith('.lrc')]\n",
        "\n",
        " for f in lrc_files:\n",
        "   # 检查文件名是否包含\".wav\"或\".mp3\"\n",
        "   if re.search(r'\\.wav|\\.mp3', f):\n",
        "     new_name = re.sub(r'\\.wav|\\.mp3', '', f)\n",
        "     os.rename(os.path.join(audio_dir, f), os.path.join(audio_dir, new_name))\n",
        "   else:\n",
        "     # 不包含则跳过\n",
        "     print(f'跳过文件:{f}')\n",
        "\n",
        " # 打包lrc文件\n",
        " with zipfile.ZipFile(os.path.join(output_dir, 'lrc.zip'), 'w') as z:\n",
        "   for f in lrc_files:\n",
        "     z.write(os.path.join(audio_dir, f), f)\n",
        "\n",
        " print('打包完成!')"
      ],
      "metadata": {
        "colab": {
          "base_uri": "https://localhost:8080/"
        },
        "id": "__IIHGK7CBNL",
        "outputId": "a2fcebb3-23e3-4be8-f683-9bfa58fabe66"
      },
      "execution_count": null,
      "outputs": [
        {
          "output_type": "stream",
          "name": "stdout",
          "text": [
            "跳过文件:tr00_标题朗读.lrc\n",
            "跳过文件:tr01_与公主的相遇・肌肤相亲陪睡与舔耳.lrc\n",
            "跳过文件:tr04_与公主的初夜・舔舐全身与哦吼声趴下后入.lrc\n",
            "跳过文件:tr05_甜蜜的发情造人性爱.lrc\n",
            "跳过文件:free talk.lrc\n",
            "跳过文件:tr02_与公主的接吻・初次的亲密性爱.lrc\n",
            "跳过文件:tr03_与公主同床共枕.lrc\n",
            "打包完成!\n"
          ]
        }
      ]
    },
    {
      "cell_type": "code",
      "source": [],
      "metadata": {
        "id": "Q0vy2U7dAIZ2"
      },
      "execution_count": null,
      "outputs": []
    }
  ]
}